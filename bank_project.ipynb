{
 "cells": [
  {
   "cell_type": "code",
   "execution_count": 195,
   "metadata": {},
   "outputs": [],
   "source": [
    "import pandas as pd\n",
    "import numpy as np"
   ]
  },
  {
   "cell_type": "code",
   "execution_count": null,
   "metadata": {},
   "outputs": [],
   "source": [
    "bank_df = pd.read_excel(\"bank_deposit.xlsx\")\n",
    "bank_df"
   ]
  },
  {
   "cell_type": "code",
   "execution_count": null,
   "metadata": {},
   "outputs": [],
   "source": [
    "# Dropped the rows that contained NAN in the contact column.\n",
    "bank_df= bank_df[bank_df['contact'].notna()]\n",
    "bank_df"
   ]
  },
  {
   "cell_type": "code",
   "execution_count": null,
   "metadata": {},
   "outputs": [],
   "source": [
    "def quantile_25(bank_df:pd.Series):\n",
    "    return bank_df.quantile(.25)\n",
    "\n",
    "def quantile_75(bank_df:pd.Series):\n",
    "    return bank_df.quantile(.75)"
   ]
  },
  {
   "cell_type": "code",
   "execution_count": null,
   "metadata": {},
   "outputs": [],
   "source": [
    "def replace_w_median(bank_df):\n",
    "    # find median for columns duration, campaign, pdays, and replace with mode for month\n",
    "    bank_df['duration'].fillna(bank_df['duration'].median(), inplace=True)\n",
    "    bank_df['campaign'].fillna(bank_df['campaign'].median(), inplace=True)\n",
    "    bank_df['pdays'].fillna(bank_df['pdays'].median(), inplace=True)\n",
    "    bank_df['month'] = bank_df['month'].fillna(bank_df['month'].mode()[0])"
   ]
  },
  {
   "cell_type": "code",
   "execution_count": null,
   "metadata": {},
   "outputs": [],
   "source": [
    "replace_w_median(bank_df)"
   ]
  },
  {
   "cell_type": "code",
   "execution_count": null,
   "metadata": {},
   "outputs": [],
   "source": [
    "bank_df[bank_df.isna().any(axis=1)]"
   ]
  },
  {
   "cell_type": "code",
   "execution_count": null,
   "metadata": {},
   "outputs": [],
   "source": [
    "bank_df.isna().sum()"
   ]
  },
  {
   "cell_type": "code",
   "execution_count": null,
   "metadata": {},
   "outputs": [],
   "source": [
    "bank_df.describe()"
   ]
  },
  {
   "cell_type": "code",
   "execution_count": null,
   "metadata": {},
   "outputs": [],
   "source": [
    "bank_pivot=bank_df.pivot_table(values='balance', index=['Bank deposit(target)','loan'], aggfunc=[ quantile_25, np.median, quantile_75,np.max])\n",
    "bank_pivot"
   ]
  },
  {
   "cell_type": "code",
   "execution_count": 264,
   "metadata": {},
   "outputs": [],
   "source": [
    "# Droping customer index 38 because it is a potential duplicate with corrupted \"duration\" value.\n",
    "bank_df = bank_df.drop(index=38)"
   ]
  },
  {
   "cell_type": "code",
   "execution_count": 243,
   "metadata": {},
   "outputs": [],
   "source": [
    "#Median1 is the value for Bank deposit=no, loan=no\n",
    "median1=int(bank_pivot.loc[([\"no\"],[\"no\"]),([\"median\"],[\"balance\"])].values[0])\n",
    "#Median2 is the value for Bank deposit=yes, loan=no\n",
    "median2=int(bank_pivot.loc[([\"yes\"],[\"no\"]),([\"median\"],[\"balance\"])].values[0])\n",
    "\n",
    "#These filters allows us to check for multiple conditions and change the \"loan\" column according to these conditions with a .loc method afterwards.\n",
    "filter1 = (bank_df['loan'].isna()) & (bank_df['Bank deposit(target)']==\"no\") & (bank_df['balance'] > median1)\n",
    "bank_df.loc[filter1, \"loan\"] = \"no\"\n",
    "filter2 = (bank_df['loan'].isna()) & (bank_df['Bank deposit(target)']==\"no\") & (bank_df['balance'] < median1)\n",
    "bank_df.loc[filter2, \"loan\"] = \"yes\"\n",
    "filter3 = (bank_df['loan'].isna()) & (bank_df['Bank deposit(target)']==\"yes\") & (bank_df['balance'] > median2)\n",
    "bank_df.loc[filter3, \"loan\"] = \"no\"\n",
    "filter4 = (bank_df['loan'].isna()) & (bank_df['Bank deposit(target)']==\"yes\") & (bank_df['balance'] < median2)\n",
    "bank_df.loc[filter4, \"loan\"] = \"yes\""
   ]
  },
  {
   "cell_type": "code",
   "execution_count": null,
   "metadata": {},
   "outputs": [],
   "source": [
    "#Changed NAN into unknown in the \"education\" column.\n",
    "bank_df[\"education\"] = bank_df[\"education\"].fillna(\"unknown\")"
   ]
  },
  {
   "cell_type": "code",
   "execution_count": null,
   "metadata": {},
   "outputs": [],
   "source": [
    "#This filter checks if Bank deposit(target) is yes and changes the poutcome to success if the condition is met.\n",
    "filter_bank_deposit_yes = bank_df[\"Bank deposit(target)\"] == \"yes\"\n",
    "bank_df.loc[filter_bank_deposit_yes, \"poutcome\"] = \"success\""
   ]
  },
  {
   "cell_type": "code",
   "execution_count": null,
   "metadata": {},
   "outputs": [],
   "source": [
    "#Checking for duplicate rows\n",
    "bank_df[bank_df.duplicated(keep=False)].sort_values(by=['balance'], ascending = True)"
   ]
  },
  {
   "cell_type": "code",
   "execution_count": null,
   "metadata": {},
   "outputs": [],
   "source": [
    "# Drop all duplicates in the DataFrame\n",
    "bank_df = bank_df.drop_duplicates()\n",
    "bank_df"
   ]
  },
  {
   "cell_type": "code",
   "execution_count": null,
   "metadata": {},
   "outputs": [],
   "source": [
    "#TO CHECK FOR OUTLIERS\n",
    "pd.set_option('display.max_rows', 100)\n",
    "pd.set_option('display.max_columns', 20)\n",
    "pd.set_option('display.width', 500)\n",
    "\n",
    "bank_df.head(100)"
   ]
  },
  {
   "cell_type": "code",
   "execution_count": null,
   "metadata": {},
   "outputs": [],
   "source": []
  }
 ],
 "metadata": {
  "kernelspec": {
   "display_name": "Python 3 (ipykernel)",
   "language": "python",
   "name": "python3"
  },
  "language_info": {
   "codemirror_mode": {
    "name": "ipython",
    "version": 3
   },
   "file_extension": ".py",
   "mimetype": "text/x-python",
   "name": "python",
   "nbconvert_exporter": "python",
   "pygments_lexer": "ipython3",
   "version": "3.10.9"
  },
  "vscode": {
   "interpreter": {
    "hash": "f88b970425a6d06aa264ed2c10c0c99747f8dde27d192521723c48330937163e"
   }
  }
 },
 "nbformat": 4,
 "nbformat_minor": 2
}
